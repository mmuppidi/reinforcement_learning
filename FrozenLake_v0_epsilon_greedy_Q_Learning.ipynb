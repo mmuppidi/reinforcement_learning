{
 "cells": [
  {
   "cell_type": "markdown",
   "metadata": {},
   "source": [
    "## FrozenLake-V0\n",
    "#### $\\epsilon$-greedy $Q$-Learning approach to solve FrozenLake-v0 enivronment from OpenAI-Gym  \n",
    "\n",
    "***FrozenLake-v0 environment***\n",
    "\n",
    "The agent controls the movement of a character in a grid world. Some tiles of the grid are walkable, and others lead to the agent falling into the water. Additionally, the movement direction of the agent is uncertain and only partially depends on the chosen direction. The agent is rewarded for finding a walkable path to a goal tile.\n",
    "\n",
    "Winter is here. You and your friends were tossing around a frisbee at the park when you made a wild throw that left the frisbee out in the middle of the lake. The water is mostly frozen, but there are a few holes where the ice has melted. If you step into one of those holes, you'll fall into the freezing water. At this time, there's an international frisbee shortage, so it's absolutely imperative that you navigate across the lake and retrieve the disc. However, the ice is slippery, so you won't always move in the direction you intend.\n",
    "\n",
    "The surface is described using a grid like the following:\n",
    "```\n",
    "SFFF       (S: starting point, safe)\n",
    "FHFH       (F: frozen surface, safe)\n",
    "FFFH       (H: hole, fall to your doom)\n",
    "HFFG       (G: goal, where the frisbee is located)\n",
    "\n",
    "```\n",
    "The episode ends when you reach the goal or fall in a hole. You receive a reward of 1 if you reach the goal, and zero otherwise.  \n"
   ]
  },
  {
   "cell_type": "code",
   "execution_count": 1,
   "metadata": {
    "collapsed": false
   },
   "outputs": [
    {
     "name": "stderr",
     "output_type": "stream",
     "text": [
      "/usr/local/lib/python2.7/site-packages/matplotlib/font_manager.py:273: UserWarning: Matplotlib is building the font cache using fc-list. This may take a moment.\n",
      "  warnings.warn('Matplotlib is building the font cache using fc-list. This may take a moment.')\n"
     ]
    }
   ],
   "source": [
    "import gym\n",
    "from gym import wrappers\n",
    "from matplotlib import pyplot as plt\n",
    "import json\n",
    "from os import listdir\n",
    "\n",
    "%matplotlib inline"
   ]
  },
  {
   "cell_type": "markdown",
   "metadata": {},
   "source": [
    "http://www.cs.cmu.edu/afs/cs/project/jair/pub/volume4/kaelbling96a.pdf\n",
    "\n",
    "***$Q$-Learning :***\n",
    "\n",
    "```\n",
    "                                      - - - < -  Action  - - < - - -\n",
    "                                     |                              | \n",
    "                                     |                              | \n",
    "                                _____________                    _______\n",
    "                               | Environment |                  | Agent |\n",
    "                               |_____________|                  |_______|\n",
    "                                     |                              |\n",
    "                                     |                              |\n",
    "                                      - - - > -  State  - - > - - -  \n",
    "\n",
    "```\n",
    "Consider an environment which has a vehicle that wants to reach a known location. An agent helps the vehicle in reaching its desitnation by providing instructions. After following the instruction the vehicle sends back its current state in the environment to the agent, so that the agent can make next decision.\n",
    "Lets call an instruction as an action and vehicles current state in the environment as a state. An action could be as simple as move up, down, right or left. A state can be combination of gps coordinates, sensory information from the vehicle like pixel data from camera, lidar information etc.\n",
    "\n",
    "In order to provide actions to the vehicle the agent should either be intelligent or should fake it until it becomes intelligent, that is, may be to start with it can provide random actions, learn based on the feedback from the environment and finally refine its learning.\n",
    "There are many ways for an agent to learn, Reinforcement Learning is one of them. The figure below depicts what happens in Reinforcement learning. Everything that has been explained above stays the same about environment and agent, but there is an additional input that an agent receives from the environment, that is, Reward.  \n",
    "\n",
    "```\n",
    "                                  - - - < -  Action  - - < - - -\n",
    "                                 |                              | \n",
    "                                 |                              | \n",
    "                            _____________                    _______\n",
    "                           | Environment |                  | Agent |\n",
    "                           |_____________|                  |_______|\n",
    "                                 |  |                          |  |\n",
    "                                 |  |                          |  |\n",
    "                                 |   - - > - - Reward - - > - -   |\n",
    "                                 |                                |                                 \n",
    "                                  - - > - - - State  - - > - - - - \n",
    "\n",
    "```\n",
    "A reward can be considered as a feedback, but more of a way to motivate the agent to learn to do the right thing. For example agent would receive a positive reward if the action instructed by the agent has moved the vehicle to next state safely without causing an accident and a negative reward if it has caused an accident.\n",
    "\n",
    "```\n",
    "                      - - - < -  Action  - - < - - -\n",
    "                     |                              | \n",
    "                     |                              | \n",
    "                _____________                    _______                  _______ \n",
    "               | Environment |                  | Agent |- < - - - - > - |Q-Table|\n",
    "               |_____________|                  |_______|                |_______|\n",
    "                     |  |                          |  |\n",
    "                     |  |                          |  |\n",
    "                     |   - - > - - Reward - - > - -   |\n",
    "                     |                                |                                 \n",
    "                      - - > - - - State  - - > - - - - \n",
    "\n",
    "                                          Q-Learning \n",
    "```\n",
    "\n",
    "$Q$-Learning is a basic Reinforcement learning techinique. It is simple and easy to implement, especially if our states are discrete and the state space is small. To start with the agent provides random actions as input to the environment and bulids a table which eventually helps it in making the right decisions. The table is called as a Q table. The table would look similar to the one below.\n",
    "\n",
    "|States|Action,Q-value pairs\n",
    "|------|--------|---------\n",
    "|State-1| {'Action-1': -20, 'Action-2': 10}\n",
    "|State-2| {'Action-1': 20, 'Action-2': 0}\n",
    "\n",
    "The table has two columns, namely, states and action,Q-value pairs. Each row in the table has information about a unique state and its corresponding action Q-value pairs, for all possible actions when the vehicle is in that state. The Q values are values that are learned by the agent from the feedback provided by the environment. \n",
    "\n",
    "Assume that the agent has a Q Table as above and it wants to send an input to vehicle which is at 'state-1'. The agent first looks at all the action Q value pairs for that state, then chooses the action with highest Q value and sends it to the vehicle. The vehicle then sends back a reward and next state so that the agent can update the Q value for the action. The equation for updating the Q value is given by\n",
    "\n",
    "$$ Q(s,a) = R(s,a) + \\gamma(\\max_{a'}Q(s',a')) $$\n",
    "\n",
    "We want to learn the Q value over time, the Q value learning rule or the $Q$-Learning rule is give by :\n",
    "\n",
    "$$ Q(s,a) := Q(s,a) + \\alpha(R(s,a) + \\gamma(\\max_{a'}Q(s',a')) - Q(s,a)) $$\n",
    "\n",
    "Where   \n",
    "  $Q$ is $Q$ function  \n",
    "  $R$ is reward function   \n",
    "  $\\alpha$ is Learning rate      \n",
    "  $\\gamma$ is Discount factor  \n",
    "  $s$ is current state  \n",
    "  $s'$ is future state  \n",
    "  $a$ is current action  \n",
    "  $a'$ is future action  \n",
    "  \n"
   ]
  },
  {
   "cell_type": "code",
   "execution_count": 2,
   "metadata": {
    "collapsed": true
   },
   "outputs": [],
   "source": [
    "import random\n",
    "import math\n",
    "\n",
    "RESULTS_PATH = 'tmp/results'\n",
    "\n",
    "class Agent(object):\n",
    "    \"\"\" An agent that learns to balance the CartPole \"\"\" \n",
    "\n",
    "    def __init__(self,env, learning, epsilon=1.0, gamma=0.5, alpha=0.5, valid_actions=[]):\n",
    "\n",
    "        # Paramters for the agent \n",
    "        self.env = env \n",
    "        self.valid_actions = valid_actions\n",
    "        self.learning = learning # Whether the agent is expected to learn\n",
    "        self.Q = dict()          # Create a Q-table which will be a dictionary of tuples\n",
    "        self.epsilon = epsilon   # Random exploration factor\n",
    "        self.alpha = alpha       # Learning factor\n",
    "        self.gamma = gamma       # Discount factor\n",
    "        self.current_state = env.reset() # Current state of the agent\n",
    "        self.done = False        # Whether it is time to reset the environment\n",
    "\n",
    "        self.epsilon_0 = epsilon # initial value of epsilon\n",
    "        self.alpha_0 = alpha     # initial value of alpha\n",
    "        self.total_trail = 1\n",
    "\n",
    "    def reset(self,testing=False):\n",
    "        \"\"\" The reset function is called at the beginning of each trial.\n",
    "            'testing' is set to True if testing trials are being used\n",
    "            once training trials have completed. \"\"\"\n",
    "\n",
    "        self.current_state = self.env.reset()\n",
    "\n",
    "        # Decay function for epsilon\n",
    "        constant = 0.0001\n",
    "\n",
    "        self.epsilon =  self.epsilon_0 * math.exp(-constant*self.total_trail)\n",
    "        #self.epsilon -= 0.0001\n",
    "        \n",
    "\n",
    "        # Decay function for alpha (not usual to implement this)\n",
    "        #self.alpha = self.alpha_0 * math.exp(-constant*self.total_trail)\n",
    "        self.alpha = max(self.alpha-0.001, 0.05 )\n",
    "\n",
    "        self.total_trail += 1\n",
    "\n",
    "        # change params for testing \n",
    "\n",
    "    def build_state(self):\n",
    "        \"\"\" The build_state function is called when the agent requests data from the \n",
    "            environment. \"\"\"\n",
    "\n",
    "        return self.current_state\n",
    "\n",
    "\n",
    "    def get_maxQ(self, state):\n",
    "        \"\"\" The get_max_Q function is called when the agent is asked to find the\n",
    "            maximum Q-value of all actions based on the 'state' the agent is in. \"\"\"\n",
    "\n",
    "        maxQ = max(self.Q[state].values())\n",
    "\n",
    "        return maxQ\n",
    "\n",
    "    def createQ(self, state):\n",
    "        \"\"\" The createQ function is called when a state is generated by the agent. \"\"\"\n",
    "        if state in self.Q:\n",
    "            pass\n",
    "        else :\n",
    "            self.Q[state] = dict(zip(self.valid_actions, [0] * len(self.valid_actions)))\n",
    "\n",
    "    def choose_action(self, state):\n",
    "        \"\"\" The choose_action function is called when the agent is asked to choose\n",
    "            which action to take, based on the 'state' the agent is in. \"\"\"\n",
    "\n",
    "\n",
    "        if not self.learning:\n",
    "            action = self.env.action_space.sample()\n",
    "            return action\n",
    "\n",
    "        if random.random() < self.epsilon:\n",
    "            action = self.env.action_space.sample()\n",
    "\n",
    "        else :\n",
    "            maxQ = self.get_maxQ(state)\n",
    "            action = random.choice([key for key in self.Q[state] if self.Q[state][key]==maxQ])\n",
    "            \n",
    "        return action\n",
    "\n",
    "\n",
    "    def learn(self, state, action, reward):\n",
    "        \"\"\" The learn function is called after the agent completes an action and\n",
    "            receives an award. This function does not consider future rewards \n",
    "            when conducting learning. \"\"\"\n",
    "\n",
    "        # Qnew = (1-alpha)*Qold + alpha*(gamma*max(Qnext))\n",
    "        try :\n",
    "            # If Q table already has current_state \n",
    "            self.Q[state][action] = self.alpha*(reward - self.Q[state][action] + \\\n",
    "                    (self.gamma*self.get_maxQ(self.current_state))) + self.Q[state][action]\n",
    "        except :\n",
    "            self.Q[state][action] = (self.alpha*reward) + ((1 - self.alpha)*self.Q[state][action])\n",
    "        \n",
    "\n",
    "\n",
    "    def update(self):\n",
    "        \"\"\" The update function is called when a time step is completed in the \n",
    "            environment for a given trial. This function will build the agent\n",
    "            state, choose an action, receive a reward, and learn if enabled. \"\"\"\n",
    "\n",
    "        state = self.build_state()          # Get current state\n",
    "        self.createQ(state)                 # Create 'state' in Q-table\n",
    "        action = self.choose_action(state)  # Choose an action\n",
    "\n",
    "        self.current_state, reward, self.done, info = self.env.step(action)\n",
    "        \n",
    "        self.learn(state, action, reward)   # Q-learn\n",
    "\n",
    "        return\n"
   ]
  },
  {
   "cell_type": "code",
   "execution_count": 3,
   "metadata": {
    "collapsed": false
   },
   "outputs": [
    {
     "name": "stderr",
     "output_type": "stream",
     "text": [
      "[2017-03-08 19:55:43,060] Making new env: FrozenLake-v0\n",
      "[2017-03-08 19:55:43,157] Clearing 30 monitor files from previous run (because force=True was provided)\n",
      "[2017-03-08 19:55:43,161] Starting new video recorder writing to /Users/mmuppidi/Documents/Personal/Projects/ML/reinforcement_learning/tmp/results/openaigym.video.0.19089.video000000.json\n",
      "[2017-03-08 19:55:43,164] Starting new video recorder writing to /Users/mmuppidi/Documents/Personal/Projects/ML/reinforcement_learning/tmp/results/openaigym.video.0.19089.video000001.json\n",
      "[2017-03-08 19:55:43,169] Starting new video recorder writing to /Users/mmuppidi/Documents/Personal/Projects/ML/reinforcement_learning/tmp/results/openaigym.video.0.19089.video000008.json\n",
      "[2017-03-08 19:55:43,176] Starting new video recorder writing to /Users/mmuppidi/Documents/Personal/Projects/ML/reinforcement_learning/tmp/results/openaigym.video.0.19089.video000027.json\n",
      "[2017-03-08 19:55:43,185] Starting new video recorder writing to /Users/mmuppidi/Documents/Personal/Projects/ML/reinforcement_learning/tmp/results/openaigym.video.0.19089.video000064.json\n",
      "[2017-03-08 19:55:43,198] Starting new video recorder writing to /Users/mmuppidi/Documents/Personal/Projects/ML/reinforcement_learning/tmp/results/openaigym.video.0.19089.video000125.json\n",
      "[2017-03-08 19:55:43,214] Starting new video recorder writing to /Users/mmuppidi/Documents/Personal/Projects/ML/reinforcement_learning/tmp/results/openaigym.video.0.19089.video000216.json\n",
      "[2017-03-08 19:55:43,270] Starting new video recorder writing to /Users/mmuppidi/Documents/Personal/Projects/ML/reinforcement_learning/tmp/results/openaigym.video.0.19089.video000343.json\n",
      "[2017-03-08 19:55:43,371] Starting new video recorder writing to /Users/mmuppidi/Documents/Personal/Projects/ML/reinforcement_learning/tmp/results/openaigym.video.0.19089.video000512.json\n",
      "[2017-03-08 19:55:43,516] Starting new video recorder writing to /Users/mmuppidi/Documents/Personal/Projects/ML/reinforcement_learning/tmp/results/openaigym.video.0.19089.video000729.json\n",
      "[2017-03-08 19:55:43,677] Starting new video recorder writing to /Users/mmuppidi/Documents/Personal/Projects/ML/reinforcement_learning/tmp/results/openaigym.video.0.19089.video001000.json\n",
      "[2017-03-08 19:55:44,266] Starting new video recorder writing to /Users/mmuppidi/Documents/Personal/Projects/ML/reinforcement_learning/tmp/results/openaigym.video.0.19089.video002000.json\n",
      "[2017-03-08 19:55:44,886] Starting new video recorder writing to /Users/mmuppidi/Documents/Personal/Projects/ML/reinforcement_learning/tmp/results/openaigym.video.0.19089.video003000.json\n",
      "[2017-03-08 19:55:45,495] Starting new video recorder writing to /Users/mmuppidi/Documents/Personal/Projects/ML/reinforcement_learning/tmp/results/openaigym.video.0.19089.video004000.json\n",
      "[2017-03-08 19:55:46,153] Starting new video recorder writing to /Users/mmuppidi/Documents/Personal/Projects/ML/reinforcement_learning/tmp/results/openaigym.video.0.19089.video005000.json\n",
      "[2017-03-08 19:55:46,257] Finished writing results. You can upload them to the scoreboard via gym.upload('/Users/mmuppidi/Documents/Personal/Projects/ML/reinforcement_learning/tmp/results')\n"
     ]
    }
   ],
   "source": [
    "def run():\n",
    "    # Initializing the environment \n",
    "    env = gym.make('FrozenLake-v0')\n",
    "    # Identifying the valid actions\n",
    "    valid_actions = range(env.action_space.n)\n",
    "    # Initializing the mornitoring of the environment, this saves the results and stats\n",
    "    env = wrappers.Monitor(env, RESULTS_PATH,force=True)\n",
    "    # Initializing the agent \n",
    "    agent = Agent(env=env,epsilon=0.05,alpha=0.99,gamma=0.99,learning=True,valid_actions=valid_actions)\n",
    "    # Learning process starts here\n",
    "    while agent.epsilon > 0.03:\n",
    "        agent.update()\n",
    "        if agent.done :\n",
    "            agent.reset()\n",
    "\n",
    "    env.close()\n",
    "    #gym.upload(RESULTS_PATH,api_key=<api-key>)\n",
    "    #print agent.Q\n",
    "\n",
    "    \n",
    "run()"
   ]
  },
  {
   "cell_type": "code",
   "execution_count": 4,
   "metadata": {
    "collapsed": false
   },
   "outputs": [],
   "source": [
    "def get_episode_batch_file_name(results_path):\n",
    "    for file_name in listdir(results_path):\n",
    "        if 'openaigym.episode_batch' in file_name:\n",
    "            return results_path+ '/'+ file_name\n",
    "        \n",
    "def element_wise_average(rewards):\n",
    "    reward_avg = [sum(rewards[:i])/(i+1) for i in range(len(rewards))]\n",
    "    return reward_avg\n",
    "\n",
    "def get_consecutive_100_episode_average_list(rewards):\n",
    "    consecutive_average = [sum(rewards[:100])/100.0]\n",
    "    for i in range(100,len(rewards)):\n",
    "        consecutive_average.append(sum(rewards[i-100 : i])/100.0)\n",
    "    return consecutive_average\n",
    "\n",
    "# Loading the results\n",
    "result = json.load(open(get_episode_batch_file_name(RESULTS_PATH)))"
   ]
  },
  {
   "cell_type": "code",
   "execution_count": 5,
   "metadata": {
    "collapsed": false
   },
   "outputs": [
    {
     "data": {
      "image/png": "[encoded data removed]",
      "text/plain": [
       "<matplotlib.figure.Figure at 0x105d6cfd0>"
      ]
     },
     "metadata": {},
     "output_type": "display_data"
    }
   ],
   "source": [
    "# Average of rewards till that episode vs episodes\n",
    "plt.plot(element_wise_average(result['episode_rewards']))\n",
    "plt.show()"
   ]
  },
  {
   "cell_type": "code",
   "execution_count": 6,
   "metadata": {
    "collapsed": false
   },
   "outputs": [
    {
     "data": {
      "image/png": "[encoded data removed]",
      "text/plain": [
       "<matplotlib.figure.Figure at 0x10908d410>"
      ]
     },
     "metadata": {},
     "output_type": "display_data"
    }
   ],
   "source": [
    "# Average of 100 rewards till that episode vs episodes\n",
    "plt.plot(get_consecutive_100_episode_average_list(result['episode_rewards']))\n",
    "plt.show()"
   ]
  },
  {
   "cell_type": "code",
   "execution_count": 7,
   "metadata": {
    "collapsed": false
   },
   "outputs": [
    {
     "name": "stdout",
     "output_type": "stream",
     "text": [
      "Best 100-episode average reward was 0.73\n",
      "The average reward was 0.521824231748\n"
     ]
    }
   ],
   "source": [
    "print \"Best 100-episode average reward was {}\".format( \\\n",
    "                max(get_consecutive_100_episode_average_list(result['episode_rewards'])))\n",
    "\n",
    "print \"The average reward was {}\".format(sum(result['episode_rewards'])/len(result['episode_rewards']))"
   ]
  },
  {
   "cell_type": "markdown",
   "metadata": {},
   "source": [
    "***References :***   \n",
    "[1] https://gym.openai.com/envs/FrozenLake-v0  \n",
    "[2] https://www.udacity.com/course/machine-learning-engineer-nanodegree--nd009  \n",
    "[3] https://medium.com/emergent-future/simple-reinforcement-learning-with-tensorflow-part-0-q-learning-with-tables-and-neural-networks-d195264329d0#.iljgpzh7m  \n",
    "[4] http://karpathy.github.io/2016/05/31/rl/"
   ]
  },
  {
   "cell_type": "code",
   "execution_count": null,
   "metadata": {
    "collapsed": true
   },
   "outputs": [],
   "source": []
  }
 ],
 "metadata": {
  "kernelspec": {
   "display_name": "Python 2",
   "language": "python",
   "name": "python2"
  },
  "language_info": {
   "codemirror_mode": {
    "name": "ipython",
    "version": 2
   },
   "file_extension": ".py",
   "mimetype": "text/x-python",
   "name": "python",
   "nbconvert_exporter": "python",
   "pygments_lexer": "ipython2",
   "version": "2.7.12"
  }
 },
 "nbformat": 4,
 "nbformat_minor": 0
}
