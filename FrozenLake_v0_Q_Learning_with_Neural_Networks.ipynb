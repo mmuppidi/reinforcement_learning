{
 "cells": [
  {
   "cell_type": "markdown",
   "metadata": {},
   "source": [
    "## FrozenLake-V0\n",
    "#### $Q$-Learning with neural networks approach to solve FrozenLake-v0 enivronment from OpenAI-Gym  \n",
    "\n",
    "***FrozenLake-v0 environment***\n",
    "\n",
    "The agent controls the movement of a character in a grid world. Some tiles of the grid are walkable, and others lead to the agent falling into the water. Additionally, the movement direction of the agent is uncertain and only partially depends on the chosen direction. The agent is rewarded for finding a walkable path to a goal tile.\n",
    "\n",
    "Winter is here. You and your friends were tossing around a frisbee at the park when you made a wild throw that left the frisbee out in the middle of the lake. The water is mostly frozen, but there are a few holes where the ice has melted. If you step into one of those holes, you'll fall into the freezing water. At this time, there's an international frisbee shortage, so it's absolutely imperative that you navigate across the lake and retrieve the disc. However, the ice is slippery, so you won't always move in the direction you intend.\n",
    "\n",
    "The surface is described using a grid like the following:\n",
    "```\n",
    "SFFF       (S: starting point, safe)\n",
    "FHFH       (F: frozen surface, safe)\n",
    "FFFH       (H: hole, fall to your doom)\n",
    "HFFG       (G: goal, where the frisbee is located)\n",
    "\n",
    "```\n",
    "The episode ends when you reach the goal or fall in a hole. You receive a reward of 1 if you reach the goal, and zero otherwise. \n",
    "\n",
    "\n",
    "http://www.cs.cmu.edu/afs/cs/project/jair/pub/volume4/kaelbling96a.pdf\n",
    "\n",
    "***$Q$-Learning :***\n",
    "\n",
    "```\n",
    "                                  - - - < -  Action  - - < - - -\n",
    "                                 |                              | \n",
    "                                 |                              | \n",
    "                            _____________                    _______\n",
    "                           | Environment |                  | Agent |\n",
    "                           |_____________|                  |_______|\n",
    "                                 |                              |\n",
    "                                 |                              |\n",
    "                                  - - - > -  State  - - > - - -  \n",
    "\n",
    "```\n",
    "Consider an environment which has a vehicle that wants to reach a known location. An agent helps the vehicle in reaching its desitnation by providing instructions. After following the instruction the vehicle sends back its current state in the environment to the agent, so that the agent can make next decision.\n",
    "Lets call an instruction as an action and vehicles current state in the environment as a state. An action could be as simple as move up, down, right or left. A state can be combination of gps coordinates, sensory information from the vehicle like pixel data from camera, lidar information etc.\n",
    "\n",
    "In order to provide actions to the vehicle the agent should either be intelligent or should fake it until it becomes intelligent, that is, may be to start with it can provide random actions, learn based on the feedback from the environment and finally refine its learning.\n",
    "There are many ways for an agent to learn, Reinforcement Learning is one of them. The figure below depicts what happens in Reinforcement learning. Everything that has been explained above stays the same about environment and agent, but there is an additional input that an agent receives from the environment, that is, Reward.  \n",
    "\n",
    "```\n",
    "                                  - - - < -  Action  - - < - - -\n",
    "                                 |                              | \n",
    "                                 |                              | \n",
    "                            _____________                    _______                \n",
    "                           | Environment |                  | Agent |\n",
    "                           |_____________|                  |_______|               \n",
    "                                 |  |                          |  |\n",
    "                                 |  |                          |  |\n",
    "                                 |   - - > - - Reward - - > - -   |\n",
    "                                 |                                |                                 \n",
    "                                  - - > - - - State  - - > - - - - \n",
    "\n",
    "```\n",
    "A reward can be considered as a feedback, but more of a way to motivate the agent to learn to do the right thing. For example agent would receive a positive reward if the action instructed by the agent has moved the vehicle to next state safely without causing an accident and a negative reward if it has caused an accident.\n",
    "\n",
    "```\n",
    "                          - - - < -  Action  - - < - - -\n",
    "                         |                              | \n",
    "                         |                              | \n",
    "                    _____________                    _______                  _______ \n",
    "                   | Environment |                  | Agent |- < - - - - > - |Q-Table|\n",
    "                   |_____________|                  |_______|                |_______|\n",
    "                         |  |                          |  |\n",
    "                         |  |                          |  |\n",
    "                         |   - - > - - Reward - - > - -   |\n",
    "                         |                                |                                 \n",
    "                          - - > - - - State  - - > - - - - \n",
    "\n",
    "                                                Q-Learning \n",
    "```\n",
    "\n",
    "$Q$-Learning is a basic Reinforcement learning techinique. It is simple and easy to implement, especially if our states are discrete and the state space is small. To start with the agent provides random actions as input to the environment and bulids a table which eventually helps it in making the right decisions. The table is called as a Q table. The table would look similar to the one below.\n",
    "\n",
    "|States|Action,Q-value pairs\n",
    "|------|--------|---------\n",
    "|State-1| {'Action-1': -20, 'Action-2': 10}\n",
    "|State-2| {'Action-1': 20, 'Action-2': 0}\n",
    "\n",
    "The table has two columns, namely, states and action,Q-value pairs. Each row in the table has information about a unique state and its corresponding action Q-value pairs, for all possible actions when the vehicle is in that state. The Q values are values that are learned by the agent from the feedback provided by the environment. \n",
    "\n",
    "Assume that the agent has a Q Table as above and it wants to send an input to vehicle which is at 'state-1'. The agent first looks at all the action Q value pairs for that state, then chooses the action with highest Q value and sends it to the vehicle. The vehicle then sends back a reward and next state so that the agent can update the Q value for the action. The equation for updating the Q value is given by\n",
    "\n",
    "$$ Q(s,a) = R(s,a) + \\gamma(\\max_{a'}Q(s',a')) $$\n",
    "\n",
    "We want to learn the Q value over time, the Q value learning rule or the $Q$-Learning rule is give by :\n",
    "\n",
    "$$ Q(s,a) := Q(s,a) + \\alpha(R(s,a) + \\gamma(\\max_{a'}Q(s',a')) - Q(s,a)) $$\n",
    "\n",
    "Where   \n",
    "  $Q$ is $Q$ function  \n",
    "  $R$ is reward function   \n",
    "  $\\alpha$ is Learning rate      \n",
    "  $\\gamma$ is Discount factor  \n",
    "  $s$ is current state  \n",
    "  $s'$ is future state  \n",
    "  $a$ is current action  \n",
    "  $a'$ is future action  \n",
    "  "
   ]
  },
  {
   "cell_type": "code",
   "execution_count": 1,
   "metadata": {
    "collapsed": false
   },
   "outputs": [
    {
     "name": "stderr",
     "output_type": "stream",
     "text": [
      "/usr/local/lib/python2.7/site-packages/matplotlib/font_manager.py:273: UserWarning: Matplotlib is building the font cache using fc-list. This may take a moment.\n",
      "  warnings.warn('Matplotlib is building the font cache using fc-list. This may take a moment.')\n"
     ]
    }
   ],
   "source": [
    "import gym\n",
    "from gym import wrappers\n",
    "import tensorflow as tf\n",
    "from matplotlib import pyplot as plt\n",
    "import json\n",
    "from os import listdir\n",
    "import numpy as np\n",
    "import random\n",
    "import math\n",
    "\n",
    "'''\n",
    "if there is import error with tf \n",
    "\n",
    "export LC_ALL=en_US.UTF-8\n",
    "export LANG=en_US.UTF-8\n",
    "\n",
    "'''\n",
    "\n",
    "%matplotlib inline"
   ]
  },
  {
   "cell_type": "markdown",
   "metadata": {},
   "source": [
    "**$Q$-Learning with Neural Networks :**\n",
    "\n",
    "In $Q$-Learning the intelligence aquired by the agent is stored in the form of a table. This approach is not scalable  and is good for learning environment which has smaller size state space. To make it scalable a neural network can be used to replace the table. \n",
    "\n",
    "```\n",
    "                      - - - < -  Action  - - < - - -\n",
    "                     |                              | \n",
    "                     |                              | \n",
    "                _____________                    _______                  ______________\n",
    "               | Environment |                  | Agent |- < - - - - > - |Neural Network|\n",
    "               |_____________|                  |_______|                |______________|\n",
    "                     |  |                          |  |\n",
    "                     |  |                          |  |\n",
    "                     |   - - > - - Reward - - > - -   |\n",
    "                     |                                |                                 \n",
    "                      - - > - - - State  - - > - - - - \n",
    "\n",
    "                                     Q-Learning with Neural Networks\n",
    "```"
   ]
  },
  {
   "cell_type": "code",
   "execution_count": 2,
   "metadata": {
    "collapsed": true
   },
   "outputs": [],
   "source": [
    "RESULTS_PATH = 'tmp/results'\n",
    "\n",
    "class Agent(object):\n",
    "    \n",
    "    def __init__(self,environment,alpha=0.1,gamma=0.5,epsilon=0.1):\n",
    "        \n",
    "        \n",
    "        self.env = environment \n",
    "        self.alpha = alpha\n",
    "        self.gamma = gamma\n",
    "        self.epsilon = epsilon\n",
    "        self.graph = tf.Graph()\n",
    "        \n",
    "        self.epsilon_0 = epsilon # initial value of epsilon\n",
    "        self.alpha_0 = alpha     # initial value of alpha\n",
    "        self.trail_count = 0\n",
    "        self.build_tf_graph()\n",
    "        \n",
    "    def set_session(self,session):\n",
    "        self.session = session\n",
    "    \n",
    "    def get_graph(self):\n",
    "        return self.graph\n",
    "    \n",
    "    def build_tf_graph(self):\n",
    "        with self.graph.as_default():\n",
    "            # first layer \n",
    "            self._input = tf.placeholder(shape=[1,16],dtype=tf.float32)\n",
    "            self.W1 = tf.Variable(tf.random_uniform([16,4],0,0.01))\n",
    "            self.Qout = tf.matmul(self._input,self.W1)\n",
    "\n",
    "            # hidden layer  TODO        \n",
    "\n",
    "            # final layer TODO\n",
    "\n",
    "            self.predict = tf.argmax(self.Qout,1)\n",
    "            #Below we obtain the loss by taking the sum of squares difference\n",
    "            #between the target and prediction Q values.\n",
    "            self.nextQ = tf.placeholder(shape=[1,4],dtype=tf.float32)\n",
    "            self.loss = tf.reduce_sum(tf.square(self.nextQ - self.Qout))\n",
    "            self.trainer = tf.train.GradientDescentOptimizer(learning_rate=self.alpha)\n",
    "            self.updateModel = self.trainer.minimize(self.loss)\n",
    "        \n",
    "    def reset(self):\n",
    "        self.current_state = self.env.reset()\n",
    "        \n",
    "        # Decay function for epsilon\n",
    "        constant = 0.0003\n",
    "\n",
    "        self.epsilon =  self.epsilon_0 * math.exp(-constant*self.trail_count)\n",
    "        #self.epsilon -= 0.0001\n",
    "        #self.epsilon = 1./((self.trail_count/50) + 10)\n",
    "        \n",
    "\n",
    "        # Decay function for alpha (not usual to implement this)\n",
    "        #self.alpha = self.alpha_0 * math.exp(-constant*self.trail_count)\n",
    "        #self.alpha = max(self.alpha-0.001, 0.05 )\n",
    "\n",
    "        self.trail_count += 1\n",
    "\n",
    "\n",
    "        \n",
    "    def choose_action(self,state):\n",
    "        action, allActionsQvalues = self.session.run(\n",
    "                                                    [self.predict,self.Qout],\n",
    "                                                    feed_dict={\n",
    "                                                            self._input:np.identity(16)[state:state+1]\n",
    "                                                        }\n",
    "                                                    )\n",
    "        if random.random() < self.epsilon:\n",
    "            action[0] = self.env.action_space.sample()\n",
    "        return action, allActionsQvalues\n",
    "    \n",
    "    \n",
    "    def learn(self, current_state, action, allActionsQvalues, reward, next_state):\n",
    "        \n",
    "        Q1 = self.session.run(\n",
    "                            self.Qout,\n",
    "                            feed_dict={\n",
    "                                self._input:np.identity(16)[next_state:next_state+1]\n",
    "                                }\n",
    "                            )\n",
    "        maxQ1 = np.max(Q1)\n",
    "        targetQ = allActionsQvalues\n",
    "        targetQ[0,action[0]] = reward + self.gamma*maxQ1\n",
    "        \n",
    "        _,W1 = self.session.run(\n",
    "                            [self.updateModel,self.W1],\n",
    "                            feed_dict={\n",
    "                                self._input:np.identity(16)[current_state:current_state+1],\n",
    "                                self.nextQ:targetQ\n",
    "                            }\n",
    "                        )\n",
    "    \n",
    "    def update(self):\n",
    "        \n",
    "        action , allActionsQvalues = self.choose_action(self.current_state)\n",
    "        \n",
    "        next_state, reward, self.done, info = self.env.step(action[0])\n",
    "        \n",
    "        self.learn(\n",
    "            current_state = self.current_state,\n",
    "            action=action,\n",
    "            allActionsQvalues=allActionsQvalues,\n",
    "            reward=reward,\n",
    "            next_state=next_state\n",
    "        )\n",
    "        \n",
    "        self.current_state = next_state\n",
    "            "
   ]
  },
  {
   "cell_type": "code",
   "execution_count": 3,
   "metadata": {
    "collapsed": false
   },
   "outputs": [
    {
     "name": "stderr",
     "output_type": "stream",
     "text": [
      "[2017-03-07 22:56:34,549] Making new env: FrozenLake-v0\n",
      "[2017-03-07 22:56:34,568] Clearing 26 monitor files from previous run (because force=True was provided)\n"
     ]
    },
    {
     "name": "stdout",
     "output_type": "stream",
     "text": [
      "WARNING:tensorflow:From <ipython-input-3-9beb4d35baa1>:5: initialize_all_variables (from tensorflow.python.ops.variables) is deprecated and will be removed after 2017-03-02.\n",
      "Instructions for updating:\n",
      "Use `tf.global_variables_initializer` instead.\n"
     ]
    },
    {
     "name": "stderr",
     "output_type": "stream",
     "text": [
      "[2017-03-07 22:56:34,645] From <ipython-input-3-9beb4d35baa1>:5: initialize_all_variables (from tensorflow.python.ops.variables) is deprecated and will be removed after 2017-03-02.\n",
      "Instructions for updating:\n",
      "Use `tf.global_variables_initializer` instead.\n",
      "[2017-03-07 22:56:34,665] Starting new video recorder writing to /Users/mmuppidi/Documents/Personal/Projects/ML/reinforcement_learning/tmp/results/openaigym.video.0.11585.video000000.json\n",
      "[2017-03-07 22:56:34,707] Starting new video recorder writing to /Users/mmuppidi/Documents/Personal/Projects/ML/reinforcement_learning/tmp/results/openaigym.video.0.11585.video000001.json\n",
      "[2017-03-07 22:56:34,771] Starting new video recorder writing to /Users/mmuppidi/Documents/Personal/Projects/ML/reinforcement_learning/tmp/results/openaigym.video.0.11585.video000008.json\n",
      "[2017-03-07 22:56:34,904] Starting new video recorder writing to /Users/mmuppidi/Documents/Personal/Projects/ML/reinforcement_learning/tmp/results/openaigym.video.0.11585.video000027.json\n",
      "[2017-03-07 22:56:35,409] Starting new video recorder writing to /Users/mmuppidi/Documents/Personal/Projects/ML/reinforcement_learning/tmp/results/openaigym.video.0.11585.video000064.json\n",
      "[2017-03-07 22:56:36,113] Starting new video recorder writing to /Users/mmuppidi/Documents/Personal/Projects/ML/reinforcement_learning/tmp/results/openaigym.video.0.11585.video000125.json\n",
      "[2017-03-07 22:56:37,209] Starting new video recorder writing to /Users/mmuppidi/Documents/Personal/Projects/ML/reinforcement_learning/tmp/results/openaigym.video.0.11585.video000216.json\n",
      "[2017-03-07 22:56:38,426] Starting new video recorder writing to /Users/mmuppidi/Documents/Personal/Projects/ML/reinforcement_learning/tmp/results/openaigym.video.0.11585.video000343.json\n",
      "[2017-03-07 22:56:40,303] Starting new video recorder writing to /Users/mmuppidi/Documents/Personal/Projects/ML/reinforcement_learning/tmp/results/openaigym.video.0.11585.video000512.json\n",
      "[2017-03-07 22:56:42,253] Starting new video recorder writing to /Users/mmuppidi/Documents/Personal/Projects/ML/reinforcement_learning/tmp/results/openaigym.video.0.11585.video000729.json\n",
      "[2017-03-07 22:56:46,474] Starting new video recorder writing to /Users/mmuppidi/Documents/Personal/Projects/ML/reinforcement_learning/tmp/results/openaigym.video.0.11585.video001000.json\n",
      "[2017-03-07 22:57:06,675] Starting new video recorder writing to /Users/mmuppidi/Documents/Personal/Projects/ML/reinforcement_learning/tmp/results/openaigym.video.0.11585.video002000.json\n",
      "[2017-03-07 22:57:33,309] Starting new video recorder writing to /Users/mmuppidi/Documents/Personal/Projects/ML/reinforcement_learning/tmp/results/openaigym.video.0.11585.video003000.json\n",
      "[2017-03-07 22:58:02,271] Starting new video recorder writing to /Users/mmuppidi/Documents/Personal/Projects/ML/reinforcement_learning/tmp/results/openaigym.video.0.11585.video004000.json\n",
      "[2017-03-07 22:58:02,623] Finished writing results. You can upload them to the scoreboard via gym.upload('/Users/mmuppidi/Documents/Personal/Projects/ML/reinforcement_learning/tmp/results')\n"
     ]
    }
   ],
   "source": [
    "env = gym.make('FrozenLake-v0')\n",
    "env = wrappers.Monitor(env, RESULTS_PATH,force=True)\n",
    "agent = Agent(environment=env,alpha=0.1,gamma=0.99,epsilon=0.1)\n",
    "with tf.Session(graph=agent.graph) as session:\n",
    "    tf.initialize_all_variables().run()\n",
    "    agent.set_session(session=session)\n",
    "    agent.reset()\n",
    "    count = 0\n",
    "    while agent.epsilon > 0.03:\n",
    "    #while count < 2000:\n",
    "        agent.update()\n",
    "        \n",
    "        #print 'step'\n",
    "        if agent.done :\n",
    "            agent.reset()\n",
    "            count += 1\n",
    "            #print count \n",
    "            #count = 0\n",
    "\n",
    "    env.close()\n",
    "    "
   ]
  },
  {
   "cell_type": "code",
   "execution_count": 4,
   "metadata": {
    "collapsed": true
   },
   "outputs": [],
   "source": [
    "def get_episode_batch_file_name(results_path):\n",
    "    for file_name in listdir(results_path):\n",
    "        if 'openaigym.episode_batch' in file_name:\n",
    "            return results_path+ '/'+ file_name\n",
    "        \n",
    "def element_wise_average(rewards):\n",
    "    reward_avg = [sum(rewards[:i])/(i+1) for i in range(len(rewards))]\n",
    "    return reward_avg\n",
    "\n",
    "def get_consecutive_100_episode_average_list(rewards):\n",
    "    consecutive_average = [sum(rewards[:100])/100.0]\n",
    "    for i in range(100,len(rewards)):\n",
    "        consecutive_average.append(sum(rewards[i-100 : i])/100.0)\n",
    "    return consecutive_average\n",
    "\n",
    "# Loading the results\n",
    "result = json.load(open(get_episode_batch_file_name(RESULTS_PATH)))"
   ]
  },
  {
   "cell_type": "code",
   "execution_count": 5,
   "metadata": {
    "collapsed": false
   },
   "outputs": [
    {
     "data": {
      "image/png": "[encoded data removed]",
      "text/plain": [
       "<matplotlib.figure.Figure at 0x1194cc790>"
      ]
     },
     "metadata": {},
     "output_type": "display_data"
    }
   ],
   "source": [
    "# Average of rewards till that episode vs episodes\n",
    "plt.plot(element_wise_average(result['episode_rewards']))\n",
    "plt.show()"
   ]
  },
  {
   "cell_type": "code",
   "execution_count": 6,
   "metadata": {
    "collapsed": false
   },
   "outputs": [
    {
     "data": {
      "image/png": "[encoded data removed]",
      "text/plain": [
       "<matplotlib.figure.Figure at 0x1196787d0>"
      ]
     },
     "metadata": {},
     "output_type": "display_data"
    }
   ],
   "source": [
    "# Average of rewards of latest 100 episode vs episodes\n",
    "plt.plot(get_consecutive_100_episode_average_list(result['episode_rewards']))\n",
    "plt.show()"
   ]
  },
  {
   "cell_type": "code",
   "execution_count": 7,
   "metadata": {
    "collapsed": false
   },
   "outputs": [
    {
     "name": "stdout",
     "output_type": "stream",
     "text": [
      "Best 100-episode average reward was 0.73\n",
      "The average reward was 0.383906327853\n"
     ]
    }
   ],
   "source": [
    "print \"Best 100-episode average reward was {}\".format( \\\n",
    "                max(get_consecutive_100_episode_average_list(result['episode_rewards'])))\n",
    "\n",
    "print \"The average reward was {}\".format(sum(result['episode_rewards'])/len(result['episode_rewards']))"
   ]
  }
 ],
 "metadata": {
  "kernelspec": {
   "display_name": "Python 2",
   "language": "python",
   "name": "python2"
  },
  "language_info": {
   "codemirror_mode": {
    "name": "ipython",
    "version": 2
   },
   "file_extension": ".py",
   "mimetype": "text/x-python",
   "name": "python",
   "nbconvert_exporter": "python",
   "pygments_lexer": "ipython2",
   "version": "2.7.12"
  }
 },
 "nbformat": 4,
 "nbformat_minor": 0
}
